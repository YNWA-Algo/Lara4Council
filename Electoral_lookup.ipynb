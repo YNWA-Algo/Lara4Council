{
  "nbformat": 4,
  "nbformat_minor": 0,
  "metadata": {
    "colab": {
      "provenance": [],
      "authorship_tag": "ABX9TyNelrr2CnDicmzO8INzYMtu",
      "include_colab_link": true
    },
    "kernelspec": {
      "name": "python3",
      "display_name": "Python 3"
    },
    "language_info": {
      "name": "python"
    }
  },
  "cells": [
    {
      "cell_type": "markdown",
      "metadata": {
        "id": "view-in-github",
        "colab_type": "text"
      },
      "source": [
        "<a href=\"https://colab.research.google.com/github/YNWA-Algo/Lara4Council/blob/main/Electoral_lookup.ipynb\" target=\"_parent\"><img src=\"https://colab.research.google.com/assets/colab-badge.svg\" alt=\"Open In Colab\"/></a>"
      ]
    },
    {
      "cell_type": "code",
      "source": [
        "!pip install PyGithub\n",
        "import pandas as pd\n",
        "from github import Github\n",
        "from io import StringIO\n",
        "from pandas.errors import EmptyDataError  # Import EmptyDataError\n",
        "import requests\n",
        "from io import BytesIO"
      ],
      "metadata": {
        "colab": {
          "base_uri": "https://localhost:8080/"
        },
        "id": "Nl54eI05l2G8",
        "outputId": "f6ac4c49-e156-4418-f42a-b58a9ee32e44"
      },
      "execution_count": 36,
      "outputs": [
        {
          "output_type": "stream",
          "name": "stdout",
          "text": [
            "Requirement already satisfied: PyGithub in /usr/local/lib/python3.10/dist-packages (2.4.0)\n",
            "Requirement already satisfied: pynacl>=1.4.0 in /usr/local/lib/python3.10/dist-packages (from PyGithub) (1.5.0)\n",
            "Requirement already satisfied: requests>=2.14.0 in /usr/local/lib/python3.10/dist-packages (from PyGithub) (2.32.3)\n",
            "Requirement already satisfied: pyjwt>=2.4.0 in /usr/local/lib/python3.10/dist-packages (from pyjwt[crypto]>=2.4.0->PyGithub) (2.9.0)\n",
            "Requirement already satisfied: typing-extensions>=4.0.0 in /usr/local/lib/python3.10/dist-packages (from PyGithub) (4.12.2)\n",
            "Requirement already satisfied: urllib3>=1.26.0 in /usr/local/lib/python3.10/dist-packages (from PyGithub) (2.2.3)\n",
            "Requirement already satisfied: Deprecated in /usr/local/lib/python3.10/dist-packages (from PyGithub) (1.2.14)\n",
            "Requirement already satisfied: cryptography>=3.4.0 in /usr/local/lib/python3.10/dist-packages (from pyjwt[crypto]>=2.4.0->PyGithub) (43.0.1)\n",
            "Requirement already satisfied: cffi>=1.4.1 in /usr/local/lib/python3.10/dist-packages (from pynacl>=1.4.0->PyGithub) (1.17.1)\n",
            "Requirement already satisfied: charset-normalizer<4,>=2 in /usr/local/lib/python3.10/dist-packages (from requests>=2.14.0->PyGithub) (2.1.1)\n",
            "Requirement already satisfied: idna<4,>=2.5 in /usr/local/lib/python3.10/dist-packages (from requests>=2.14.0->PyGithub) (3.10)\n",
            "Requirement already satisfied: certifi>=2017.4.17 in /usr/local/lib/python3.10/dist-packages (from requests>=2.14.0->PyGithub) (2024.8.30)\n",
            "Requirement already satisfied: wrapt<2,>=1.10 in /usr/local/lib/python3.10/dist-packages (from Deprecated->PyGithub) (1.16.0)\n",
            "Requirement already satisfied: pycparser in /usr/local/lib/python3.10/dist-packages (from cffi>=1.4.1->pynacl>=1.4.0->PyGithub) (2.22)\n"
          ]
        }
      ]
    },
    {
      "cell_type": "code",
      "source": [
        "pip install Gitpython"
      ],
      "metadata": {
        "colab": {
          "base_uri": "https://localhost:8080/"
        },
        "id": "j9cv5FzPZdT9",
        "outputId": "7e62ad11-645c-49ea-9fa9-a3b705ea132e"
      },
      "execution_count": 37,
      "outputs": [
        {
          "output_type": "stream",
          "name": "stdout",
          "text": [
            "Requirement already satisfied: Gitpython in /usr/local/lib/python3.10/dist-packages (3.1.43)\n",
            "Requirement already satisfied: gitdb<5,>=4.0.1 in /usr/local/lib/python3.10/dist-packages (from Gitpython) (4.0.11)\n",
            "Requirement already satisfied: smmap<6,>=3.0.1 in /usr/local/lib/python3.10/dist-packages (from gitdb<5,>=4.0.1->Gitpython) (5.0.1)\n"
          ]
        }
      ]
    },
    {
      "cell_type": "code",
      "source": [
        "#GITHUB_TOKEN ='insert token here'"
      ],
      "metadata": {
        "id": "R4r_i6-SmFyf"
      },
      "execution_count": 38,
      "outputs": []
    },
    {
      "cell_type": "code",
      "source": [
        "# Replace with the correct raw URL for the Excel file\n",
        "url = \"https://raw.githubusercontent.com/YNWA-Algo/Lara4Council/main/Canvassing1.xlsx\"\n",
        "REPO_OWNER = \"YNWA-Algo\"\n",
        "REPO_NAME = \"Lara4Council\"\n",
        "\n",
        "# Fetch the Excel file content\n",
        "response = requests.get(url)\n",
        "if response.status_code == 200:\n",
        "    excel_content = response.content\n",
        "else:\n",
        "    print(f\"Failed to fetch file: {response.status_code}\")\n",
        "\n",
        "# If the content is valid, read it into a DataFrame\n",
        "if excel_content:\n",
        "    # Specify the engine as 'openpyxl' for .xlsx files\n",
        "    df = pd.read_excel(BytesIO(excel_content), engine='openpyxl')\n",
        "    print(df.head().to_string()) # Display the first few rows of the DataFrame to verify\n",
        "else:\n",
        "    print(\"No data fetched from the Excel file.\")\n"
      ],
      "metadata": {
        "colab": {
          "base_uri": "https://localhost:8080/"
        },
        "id": "_Mny9vR2n9JO",
        "outputId": "8db2578f-7b5e-4b54-9b04-2d88b4d42199"
      },
      "execution_count": 39,
      "outputs": [
        {
          "output_type": "stream",
          "name": "stdout",
          "text": [
            "  Street Type Street Name House Number  Name  Engaged Flyer  Email  Key Issue Vote  Lawn Sign Notes \n",
            "0          St       Pryor          1707   NaN      No     DH    NaN       NaN   NaN       NaN    NaN\n",
            "1          St       Pryor          1715   NaN      No     DH    NaN       NaN   NaN       NaN    NaN\n",
            "2          St       Pryor          1721   NaN      No     DH    NaN       NaN   NaN       NaN    NaN\n",
            "3          St       Pryor          1729   NaN      No     DH    NaN       NaN   NaN       NaN    NaN\n",
            "4          St       Pryor          1737   NaN      No     DH    NaN       NaN   NaN       NaN    NaN\n"
          ]
        }
      ]
    },
    {
      "cell_type": "code",
      "source": [
        "\n",
        "# Concatenate 'Street Name' and 'House Number' into a new column 'Streetnamenumber'\n",
        "#f['Streetnamenumber'] = df['Street Name'] + df['House Number ']\n",
        "\n",
        "\n",
        "# Strip any leading or trailing spaces from the column names\n",
        "df.columns = df.columns.str.strip()\n",
        "\n",
        "# Convert 'House Number' to string and concatenate with 'Street Name'\n",
        "df['Streetnamenumber'] = df['Street Name'] + df['House Number'].astype(str)\n",
        "\n",
        "\n",
        "\n",
        "# Save the updated DataFrame back to the same Excel file\n",
        "df.to_excel('Canvassing1.xlsx', index=False)\n"
      ],
      "metadata": {
        "id": "JDNksVE-NMzT"
      },
      "execution_count": 41,
      "outputs": []
    },
    {
      "cell_type": "markdown",
      "source": [
        "concatenate Street Name and Street Number for Electoral file"
      ],
      "metadata": {
        "id": "RUnSmfq2d0BX"
      }
    },
    {
      "cell_type": "code",
      "source": [
        "# Replace with the correct raw URL for the Excel file\n",
        "url = \"https://raw.githubusercontent.com/YNWA-Algo/Lara4Council/main/ElectorExtract_2024_Sep12IO.xlsx\"\n",
        "REPO_OWNER = \"YNWA-Algo\"\n",
        "REPO_NAME = \"Lara4Council\"\n",
        "\n",
        "# Fetch the Excel file content\n",
        "response = requests.get(url)\n",
        "if response.status_code == 200:\n",
        "    excel_content = response.content\n",
        "else:\n",
        "    print(f\"Failed to fetch file: {response.status_code}\")\n",
        "\n",
        "# If the content is valid, read it into a DataFrame\n",
        "if excel_content:\n",
        "    # Specify the engine as 'openpyxl' for .xlsx files\n",
        "    df1 = pd.read_excel(BytesIO(excel_content), engine='openpyxl')\n",
        "    print(df1.head().to_string()) # Display the first few rows of the DataFrame to verify\n",
        "else:\n",
        "    print(\"No data fetched from the Excel file.\")"
      ],
      "metadata": {
        "colab": {
          "base_uri": "https://localhost:8080/"
        },
        "id": "EMXnIUnGd9Gv",
        "outputId": "91d1b557-b6b7-4668-e497-c21faefdd69c"
      },
      "execution_count": 46,
      "outputs": [
        {
          "output_type": "stream",
          "name": "stdout",
          "text": [
            "   Elector ID                    Name  Street Number Street Name Street Type Unit Number Community                     District                   Division Voted\n",
            "0         NaN                     NaN            NaN         NaN         NaN         NaN       NaN                          NaN                        NaN   NaN\n",
            "1    443071.0     KELLY, DANA MARLENE         7051.0      ABBOTT          DR         NaN   HALIFAX  09 - Halifax West - Armdale  District 09 Division 0901     N\n",
            "2         NaN                     NaN            NaN         NaN         NaN         NaN       NaN                          NaN                        NaN   NaN\n",
            "3   1216324.0  DADA, OLUSOLA ADEBIMPE         7051.0      ABBOTT          DR         NaN   HALIFAX  09 - Halifax West - Armdale  District 09 Division 0901     N\n",
            "4         NaN                     NaN            NaN         NaN         NaN         NaN       NaN                          NaN                        NaN   NaN\n"
          ]
        }
      ]
    },
    {
      "cell_type": "code",
      "source": [
        "\n",
        "\n",
        "# Assuming df1 is your DataFrame\n",
        "# Strip any leading or trailing spaces from the column names\n",
        "df1.columns = df1.columns.str.strip()\n",
        "\n",
        "# Capitalize the first letter of 'Street Name' and concatenate with 'Street Number'\n",
        "df1['Streetnamenumber'] = df1['Street Name'].str.capitalize() + df1['Street Number'].astype(str)\n",
        "\n",
        "# Remove the '.0' from the concatenated column values\n",
        "df1['Streetnamenumber'] = df1['Streetnamenumber'].str.replace('.0', '')\n",
        "\n",
        "# Save the updated DataFrame back to the same Excel file\n",
        "df1.to_excel('ExtractorExtract_2024_Sep12IO.xlsx', index=False)\n"
      ],
      "metadata": {
        "id": "ZR0NLqG6g5tF"
      },
      "execution_count": 48,
      "outputs": []
    },
    {
      "cell_type": "markdown",
      "source": [
        "Next Look up both files [using streetnamenumber column], where there is a match, then create a new column and mark priority"
      ],
      "metadata": {
        "id": "YBzLB9PAjJ8q"
      }
    },
    {
      "cell_type": "code",
      "source": [
        "\n",
        "\n",
        "# Load your dataframes (assuming they are already loaded as df and df1)\n",
        "# df1 = pd.read_excel('ElectorExtract_2024_Sep12IO.xlsx')\n",
        "# df = pd.read_excel('Canvassing1.xlsx')\n",
        "\n",
        "# Ensure column names are stripped of leading/trailing spaces\n",
        "df.columns = df.columns.str.strip()\n",
        "df1.columns = df1.columns.str.strip()\n",
        "\n",
        "# Convert 'Streetnamenumber' columns to lowercase strings for case-insensitive comparison\n",
        "df['Streetnamenumber'] = df['Streetnamenumber'].astype(str).str.lower()\n",
        "df1['Streetnamenumber'] = df1['Streetnamenumber'].astype(str).str.lower()\n",
        "\n",
        "# Initialize the 'Priority' column with empty strings\n",
        "df['Priority'] = ''\n",
        "\n",
        "# Iterate over rows in df\n",
        "for index, row in df.iterrows():\n",
        "    if row['Streetnamenumber'] in df1['Streetnamenumber'].values:\n",
        "        df.at[index, 'Priority'] = 'Prioritize'\n",
        "\n",
        "# Save the updated DataFrame back to the same Excel file\n",
        "df.to_excel('Canvassing1_updated.xlsx', index=False)\n"
      ],
      "metadata": {
        "id": "tDrfcrgrrLTW"
      },
      "execution_count": 52,
      "outputs": []
    }
  ]
}